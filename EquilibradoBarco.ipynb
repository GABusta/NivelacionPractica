{
  "nbformat": 4,
  "nbformat_minor": 0,
  "metadata": {
    "colab": {
      "name": "EquilibradoBarco.ipynb",
      "provenance": [],
      "authorship_tag": "ABX9TyOBjDQnbpYnIM91/JG+Z+Lp",
      "include_colab_link": true
    },
    "kernelspec": {
      "name": "python3",
      "display_name": "Python 3"
    },
    "language_info": {
      "name": "python"
    }
  },
  "cells": [
    {
      "cell_type": "markdown",
      "metadata": {
        "id": "view-in-github",
        "colab_type": "text"
      },
      "source": [
        "<a href=\"https://colab.research.google.com/github/GABusta/NivelacionPractica/blob/main/EquilibradoBarco.ipynb\" target=\"_parent\"><img src=\"https://colab.research.google.com/assets/colab-badge.svg\" alt=\"Open In Colab\"/></a>"
      ]
    },
    {
      "cell_type": "code",
      "source": [
        "import pandas as pd"
      ],
      "metadata": {
        "id": "MrLzeZk-98c-"
      },
      "execution_count": 1,
      "outputs": []
    },
    {
      "cell_type": "code",
      "source": [
        "def Equilibrio(datos):\n",
        "  peso = datos['peso']\n",
        "  x = datos['x']\n",
        "  y = datos['y']\n",
        "\n",
        "  Mx, My = 0, 0\n",
        "  for i in range(len(peso)):\n",
        "    Mx += peso[i] * x[i]\n",
        "    My += peso[i] * y[i]\n",
        "  \n",
        "  if Mx == 0 and My == 0:\n",
        "    return 'Equilibrado'\n",
        "  else:\n",
        "    return 'NO Equilibrado'"
      ],
      "metadata": {
        "id": "8oJNaPKx_Ynd"
      },
      "execution_count": 9,
      "outputs": []
    },
    {
      "cell_type": "markdown",
      "source": [
        "**CASO 0**\n",
        "\n",
        "En este caso todos los contenedores se encuentran en línea, de manera tal que su coordenada en y sea igual a cero, y todos los contenedores tienen el mismo peso"
      ],
      "metadata": {
        "id": "uGiU4lojDpPW"
      }
    },
    {
      "cell_type": "code",
      "source": [
        "datos0 = pd.read_csv('caso00.csv')\n",
        "print(datos0)\n",
        "print('-----------')\n",
        "Equilibrio(datos0)"
      ],
      "metadata": {
        "colab": {
          "base_uri": "https://localhost:8080/",
          "height": 244
        },
        "id": "9oak5p3DD0bm",
        "outputId": "391ba4d3-48f7-46c8-df66-5c822ac5cdd6"
      },
      "execution_count": 14,
      "outputs": [
        {
          "output_type": "stream",
          "name": "stdout",
          "text": [
            "   peso  x  y\n",
            "0    20  9  0\n",
            "1    20  7  0\n",
            "2    20  5  0\n",
            "3    20  3  0\n",
            "4    20  1  0\n",
            "5    20 -1  0\n",
            "6    20 -3  0\n",
            "7    20 -5  0\n",
            "8    20 -7  0\n",
            "9    20 -9  0\n",
            "-----------\n"
          ]
        },
        {
          "output_type": "execute_result",
          "data": {
            "application/vnd.google.colaboratory.intrinsic+json": {
              "type": "string"
            },
            "text/plain": [
              "'Equilibrado'"
            ]
          },
          "metadata": {},
          "execution_count": 14
        }
      ]
    },
    {
      "cell_type": "markdown",
      "source": [
        "**CASO 1**\n",
        "\n",
        "En este caso todos los contenedores están ubicados en línea, de manera tal que su coordenada en y sea igual a cero"
      ],
      "metadata": {
        "id": "HYqsdTum_LA2"
      }
    },
    {
      "cell_type": "code",
      "execution_count": 15,
      "metadata": {
        "colab": {
          "base_uri": "https://localhost:8080/",
          "height": 244
        },
        "id": "j__OTMcF8EsR",
        "outputId": "1edf804c-0ff6-4a5e-905f-e92564d8c8df"
      },
      "outputs": [
        {
          "output_type": "stream",
          "name": "stdout",
          "text": [
            "   peso  x  y\n",
            "0  20.0  9  0\n",
            "1  18.0  7  0\n",
            "2   5.0  5  0\n",
            "3  15.0  3  0\n",
            "4  18.0  1  0\n",
            "5  21.0 -1  0\n",
            "6  19.5 -3  0\n",
            "7   6.0 -5  0\n",
            "8  13.0 -7  0\n",
            "9  11.0 -9  0\n",
            "-----------\n"
          ]
        },
        {
          "output_type": "execute_result",
          "data": {
            "application/vnd.google.colaboratory.intrinsic+json": {
              "type": "string"
            },
            "text/plain": [
              "'NO Equilibrado'"
            ]
          },
          "metadata": {},
          "execution_count": 15
        }
      ],
      "source": [
        "datos1 = pd.read_csv('caso01.csv')\n",
        "print(datos1)\n",
        "print('-----------')\n",
        "Equilibrio(datos1)"
      ]
    },
    {
      "cell_type": "markdown",
      "source": [
        "CASO 2\n",
        "**texto en negrita**\n",
        "En este caso los contenedores están distribuidos a lo largo de la cubierta y todos tienen pesos distintos"
      ],
      "metadata": {
        "id": "GQzMRchxEHKu"
      }
    },
    {
      "cell_type": "code",
      "source": [
        "datos2 = pd.read_csv('caso02.csv')\n",
        "print(datos2)\n",
        "print('-----------')\n",
        "Equilibrio(datos2)"
      ],
      "metadata": {
        "colab": {
          "base_uri": "https://localhost:8080/",
          "height": 244
        },
        "id": "rDoIl9W3EPtV",
        "outputId": "9e7ff349-df5a-4c7d-cfea-1d961089a243"
      },
      "execution_count": 16,
      "outputs": [
        {
          "output_type": "stream",
          "name": "stdout",
          "text": [
            "   peso    x  y\n",
            "0  20.0 -7.5  9\n",
            "1  18.0 -7.5  7\n",
            "2   5.0  7.5  9\n",
            "3  15.0  7.5  7\n",
            "4  18.0  1.0  0\n",
            "5  21.0 -1.0  0\n",
            "6  19.5 -7.5 -9\n",
            "7   6.0 -7.5 -7\n",
            "8  13.0  7.5 -9\n",
            "9  11.0  7.5 -7\n",
            "-----------\n"
          ]
        },
        {
          "output_type": "execute_result",
          "data": {
            "application/vnd.google.colaboratory.intrinsic+json": {
              "type": "string"
            },
            "text/plain": [
              "'NO Equilibrado'"
            ]
          },
          "metadata": {},
          "execution_count": 16
        }
      ]
    }
  ]
}